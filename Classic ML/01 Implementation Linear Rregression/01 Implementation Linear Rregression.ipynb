{
 "cells": [
  {
   "cell_type": "markdown",
   "id": "dea10f8c",
   "metadata": {},
   "source": [
    "<a href=\"#1-Definition\" style=\"margin-left: 0px;\">1 Definition</a>  \n",
    "<a href=\"#2-Equation\" style=\"margin-left: 0px;\">2 Equation</a>  \n",
    "<a href=\"#3-Error\" style=\"margin-left: 0px;\">3 Error</a>  \n",
    "<a href=\"#4-Analytical-solution\" style=\"margin-left: 0px;\">4 Analytical solution</a>  \n",
    "<a href=\"#5-Numerical-solution-:-gradient-descent\" style=\"margin-left: 0px;\">5 Numerical solution : gradient descent</a>  \n",
    "<a href=\"#6-Regularization\" style=\"margin-left: 0px;\">6 Regularization</a>  \n",
    "<a href=\"#7-Polynomial-regression\" style=\"margin-left: 0px;\">7 Polynomial regression</a>  \n",
    "<a href=\"#8-Coefficient-of-determination\" style=\"margin-left: 0px;\">8 Coefficient of determination</a>  \n",
    "<a href=\"#9-Implementation\" style=\"margin-left: 0px;\">9 Implementation</a>  \n",
    "<a href=\"#10-Implementation-results\" style=\"margin-left: 0px;\">10 Implementation results</a>  \n",
    "<a href=\"#10.1-Linear-Regression\" style=\"margin-left: 30px;\">10.1 Linear Regression</a>  \n",
    "<a href=\"#10.2-Ridge\" style=\"margin-left: 30px;\">10.2 Ridge</a>  \n",
    "<a href=\"#10.3-Lasso\" style=\"margin-left: 30px;\">10.3 Lasso</a>  \n",
    "<a href=\"#10.4-ElasticNet\" style=\"margin-left: 30px;\">10.4 ElasticNet</a>  "
   ]
  },
  {
   "cell_type": "markdown",
   "id": "d825468c",
   "metadata": {},
   "source": [
    "### 1 Definition"
   ]
  },
  {
   "cell_type": "markdown",
   "id": "9c3ef944",
   "metadata": {},
   "source": [
    "Линейная регрессия - это метод машинного обучения, где target -  вещественное число, оценка таргета равна сумме произведений значений выборки и весов признаков.  "
   ]
  },
  {
   "cell_type": "markdown",
   "id": "7a5d5ab6",
   "metadata": {},
   "source": [
    "### 2 Equation  \n",
    "$\\hat{y}  = h(x) = Θ_{0}+Θ_{1}x_{1}+...+Θ_{n}x_{n}$   \n",
    "$\\hat{y}^{i} = h(x^{i}) = Θ_{0}+Θ_{1}x_{1}^{i}+...+Θ_{n}x_{n}^{i}$,  \n",
    "\n",
    "$x_{i}$ - известные значения, $i= \\overline{1,m}$    \n",
    "$Θ_{j}$ - веса признаков,  $j = \\overline{1,n}$   "
   ]
  },
  {
   "cell_type": "markdown",
   "id": "899e7bd0",
   "metadata": {},
   "source": [
    "### 3 Error  \n",
    "$MSE = \\frac{1}{m}\\sum\\limits _{i=1}^{m}(y^{i}-h(x^{i}))^{2}$ - среднеквадратичная ошибка    \n",
    "$MAE = \\frac{1}{m}\\sum\\limits _{i=1}^{m}|y^{i}-h(x^{i})|$ - абсолютная ошибка  "
   ]
  },
  {
   "cell_type": "markdown",
   "id": "b4bba82d",
   "metadata": {},
   "source": [
    "### 4 Analytical solution\n",
    "$Θ = (X^T * X)^{-1} * X^T * y$  \n",
    "\n",
    "$y = X * Θ$  \n",
    "$X^{T}*X * Θ = X^{T}*y$  \n",
    "$Θ = (X^T * X)^{-1} * X^T * y$   \n",
    "\n",
    "\n"
   ]
  },
  {
   "cell_type": "markdown",
   "id": "c4342fd2",
   "metadata": {},
   "source": [
    "### 5 Numerical solution : gradient descent  "
   ]
  },
  {
   "cell_type": "markdown",
   "id": "6214b07f",
   "metadata": {},
   "source": [
    "чачтные производные $MSE(Θ)$ по $Θ_{j}$  \n",
    "$\\frac{∂MSE(Θ)}{∂Θ_{j}} = \\frac{2}{m}\\sum\\limits_{i=1}^{m}(y^{i}-Θ^T*X^{i})x_{j}^{i}$  \n",
    "умножаем столбец $Θ^T$ на строку $X_{i}$  \n",
    "\n",
    "#### Шаги градиентного спуска:\n",
    "\n",
    "Этап 1: Мы определеяем начальные значения весов признаков   \n",
    "Этап 2: Мы определяем функцию потерь    \n",
    "Этап 3: Мы определяем шаг &eta; градиентного спуска    \n",
    "Этап 4: Мы считаем градиент функции потерь    \n",
    "\n",
    "$∇_{Θ}MSE(Θ)$ = $∇||y-XΘ||^{2}$ = \n",
    "\n",
    "$\n",
    "\\left(\n",
    "\\begin{array}{ll}\n",
    "\\frac{∂MSE(Θ)}{∂Θ_{1}} \\\\\n",
    "\\hspace{1em}... \\\\\n",
    "\\frac{∂MSE(Θ)}{∂Θ_{n}}\n",
    "\\end{array}\n",
    "\\right)\n",
    "$  \n",
    "\n",
    "Этап 5: Мы считаем новые значения весов признаков   \n",
    "\n",
    "$Θ^{k+1} = Θ^{k}$ - &eta;$∇_{Θ}MSE(Θ)$  \n",
    "\n",
    "Этап 6: Обновляем веса признаков пока значение ошибки не станет приемлемой для нас  "
   ]
  },
  {
   "cell_type": "markdown",
   "id": "8b3ab000",
   "metadata": {},
   "source": [
    "### 6 Regularization\n",
    "\n",
    "J(Θ) - loss функция   \n",
    "\n",
    "1) Ridge regression (Гребиневая регрессия):   \n",
    "L2-regularization  \n",
    "$J(Θ) = MSE(Θ) + α\\frac{1}{2}\\sum\\limits_{j=1}^{n}Θ^{2}_{j}$  \n",
    "feature decorrelation (избавляется от корреляции признаков)   \n",
    "\n",
    "2) Lasso regression (Лассо регрессия):  \n",
    "L1-regularization  \n",
    "$J(Θ) = MSE(Θ) + α\\sum\\limits_{j=1}^{n}|Θ_{j}|$   \n",
    "To remove weak features (удаляет слабые признаки)  \n",
    "\n",
    "3) Elastic Net (Элестичная сеть):  \n",
    "$J(Θ) = MSE(Θ) + rα\\sum\\limits_{j=1}^{n}|Θ_{j}| + \\frac{1-r}{2}α\\sum\\limits_{j=1}^{n}Θ^{2}_{j}$  "
   ]
  },
  {
   "cell_type": "markdown",
   "id": "52b06d00",
   "metadata": {},
   "source": [
    "**L2**   \n",
    "Ridge (L2-регуляризация) уменьшает коэффициенты, но не обнуляет их полностью.    \n",
    "L2 (Ridge) → Хорошо работает при мультиколлинеарности, но оставляет все признаки.    \n",
    "\n",
    "$\n",
    "\\frac{\\partial}{\\partial Θ_j} \\lambda Θ_j^2 = 2\\lambda Θ_j\n",
    "$\n",
    "\n",
    "\n",
    "**L1**  \n",
    "Lasso (L1-регуляризация) может занулять некоторые коэффициенты, отбрасывая нерелевантные признаки.    \n",
    "L1 (Lasso) → Может обнулять коэффициенты, делая модель разреженной (отбрасывая нерелевантные признаки).  \n",
    "\n",
    "$\n",
    "\\frac{\\partial}{\\partial Θ_j} \\lambda |\\Theta_j| =\n",
    "\\begin{cases} \n",
    "\\lambda, & \\Theta_j > 0 \\\\ \n",
    "-\\lambda, & \\Theta_j < 0 \\\\ \n",
    "\\text{не определено}, & \\Theta_j = 0 \n",
    "\\end{cases}\n",
    "$  \n"
   ]
  },
  {
   "cell_type": "markdown",
   "id": "39a9ac79",
   "metadata": {},
   "source": [
    "### 7 Polynomial regression\n",
    " \n",
    "**Пример:**  \n",
    "\n",
    "Для простого случая с двумя признаками $x_1$ и $x_2$, можно добавить новые признаки, такие как:  \n",
    "\n",
    "$x_1^2, x_2^2, x_1 x_2$  \n",
    "\n",
    "Таким образом, модель линейной регрессии будет работать с новыми признаками:  \n",
    "\n",
    "$y = w_1 x_1 + w_2 x_2 + w_3 x_1^2 + w_4 x_2^2 + w_5 x_1 x_2 + b$  "
   ]
  },
  {
   "cell_type": "markdown",
   "id": "d5fce80a",
   "metadata": {},
   "source": [
    "### 8 Coefficient of determination   \n",
    "\n",
    "$R^{2} = 1 - \\frac{\\sum\\limits_{i=1}^{n}(y_{i} - \\hat{y_{i}})^{2}}{\\sum\\limits_{i=1}^{n}(y_{i} - \\bar{y})^{2}}$,\n",
    "\n",
    "R ∈ (-∞;1]  \n",
    "\n",
    "$\\hat{y_{i}}$ - predicted values (рассчетные значения)  \n",
    "$\\bar{y}$ - mean value (среднее значение)  "
   ]
  },
  {
   "cell_type": "markdown",
   "id": "ef98ffe7",
   "metadata": {},
   "source": [
    "### 9 Implementation"
   ]
  },
  {
   "cell_type": "code",
   "execution_count": 1,
   "id": "2056e9ef",
   "metadata": {},
   "outputs": [],
   "source": [
    "import pandas as pd\n",
    "import numpy as np\n",
    "\n",
    "from sklearn.linear_model import LinearRegression\n",
    "from sklearn.metrics import mean_squared_error\n",
    "from sklearn.metrics import mean_absolute_error\n",
    "from sklearn.metrics import r2_score\n",
    "from sklearn.preprocessing import PolynomialFeatures\n",
    "\n",
    "import matplotlib.pyplot as plt"
   ]
  },
  {
   "cell_type": "code",
   "execution_count": 2,
   "id": "4d032afe",
   "metadata": {},
   "outputs": [],
   "source": [
    "data = pd.read_csv(\"train_df_new.csv\")"
   ]
  },
  {
   "cell_type": "code",
   "execution_count": 3,
   "id": "fcfcf409",
   "metadata": {},
   "outputs": [
    {
     "name": "stdout",
     "output_type": "stream",
     "text": [
      "(49352, 24)\n"
     ]
    },
    {
     "data": {
      "text/html": [
       "<div>\n",
       "<style scoped>\n",
       "    .dataframe tbody tr th:only-of-type {\n",
       "        vertical-align: middle;\n",
       "    }\n",
       "\n",
       "    .dataframe tbody tr th {\n",
       "        vertical-align: top;\n",
       "    }\n",
       "\n",
       "    .dataframe thead th {\n",
       "        text-align: right;\n",
       "    }\n",
       "</style>\n",
       "<table border=\"1\" class=\"dataframe\">\n",
       "  <thead>\n",
       "    <tr style=\"text-align: right;\">\n",
       "      <th></th>\n",
       "      <th>bathrooms</th>\n",
       "      <th>bedrooms</th>\n",
       "      <th>interest_level</th>\n",
       "      <th>price</th>\n",
       "      <th>Elevator</th>\n",
       "      <th>CatsAllowed</th>\n",
       "      <th>HardwoodFloors</th>\n",
       "      <th>DogsAllowed</th>\n",
       "      <th>Doorman</th>\n",
       "      <th>Dishwasher</th>\n",
       "      <th>...</th>\n",
       "      <th>LaundryinUnit</th>\n",
       "      <th>RoofDeck</th>\n",
       "      <th>OutdoorSpace</th>\n",
       "      <th>DiningRoom</th>\n",
       "      <th>HighSpeedInternet</th>\n",
       "      <th>Balcony</th>\n",
       "      <th>SwimmingPool</th>\n",
       "      <th>LaundryInBuilding</th>\n",
       "      <th>NewConstruction</th>\n",
       "      <th>Terrace</th>\n",
       "    </tr>\n",
       "  </thead>\n",
       "  <tbody>\n",
       "    <tr>\n",
       "      <th>0</th>\n",
       "      <td>1.0</td>\n",
       "      <td>1</td>\n",
       "      <td>1</td>\n",
       "      <td>2400</td>\n",
       "      <td>0</td>\n",
       "      <td>1</td>\n",
       "      <td>1</td>\n",
       "      <td>1</td>\n",
       "      <td>0</td>\n",
       "      <td>1</td>\n",
       "      <td>...</td>\n",
       "      <td>0</td>\n",
       "      <td>0</td>\n",
       "      <td>0</td>\n",
       "      <td>1</td>\n",
       "      <td>0</td>\n",
       "      <td>0</td>\n",
       "      <td>0</td>\n",
       "      <td>0</td>\n",
       "      <td>0</td>\n",
       "      <td>0</td>\n",
       "    </tr>\n",
       "    <tr>\n",
       "      <th>1</th>\n",
       "      <td>1.0</td>\n",
       "      <td>2</td>\n",
       "      <td>0</td>\n",
       "      <td>3800</td>\n",
       "      <td>1</td>\n",
       "      <td>0</td>\n",
       "      <td>1</td>\n",
       "      <td>0</td>\n",
       "      <td>1</td>\n",
       "      <td>1</td>\n",
       "      <td>...</td>\n",
       "      <td>0</td>\n",
       "      <td>0</td>\n",
       "      <td>0</td>\n",
       "      <td>0</td>\n",
       "      <td>0</td>\n",
       "      <td>0</td>\n",
       "      <td>0</td>\n",
       "      <td>0</td>\n",
       "      <td>0</td>\n",
       "      <td>0</td>\n",
       "    </tr>\n",
       "    <tr>\n",
       "      <th>2</th>\n",
       "      <td>1.0</td>\n",
       "      <td>2</td>\n",
       "      <td>1</td>\n",
       "      <td>3495</td>\n",
       "      <td>1</td>\n",
       "      <td>0</td>\n",
       "      <td>1</td>\n",
       "      <td>0</td>\n",
       "      <td>1</td>\n",
       "      <td>1</td>\n",
       "      <td>...</td>\n",
       "      <td>1</td>\n",
       "      <td>0</td>\n",
       "      <td>0</td>\n",
       "      <td>0</td>\n",
       "      <td>0</td>\n",
       "      <td>0</td>\n",
       "      <td>0</td>\n",
       "      <td>0</td>\n",
       "      <td>0</td>\n",
       "      <td>0</td>\n",
       "    </tr>\n",
       "    <tr>\n",
       "      <th>3</th>\n",
       "      <td>1.5</td>\n",
       "      <td>3</td>\n",
       "      <td>1</td>\n",
       "      <td>3000</td>\n",
       "      <td>0</td>\n",
       "      <td>0</td>\n",
       "      <td>0</td>\n",
       "      <td>0</td>\n",
       "      <td>0</td>\n",
       "      <td>0</td>\n",
       "      <td>...</td>\n",
       "      <td>0</td>\n",
       "      <td>0</td>\n",
       "      <td>0</td>\n",
       "      <td>0</td>\n",
       "      <td>0</td>\n",
       "      <td>0</td>\n",
       "      <td>0</td>\n",
       "      <td>0</td>\n",
       "      <td>0</td>\n",
       "      <td>0</td>\n",
       "    </tr>\n",
       "    <tr>\n",
       "      <th>4</th>\n",
       "      <td>1.0</td>\n",
       "      <td>0</td>\n",
       "      <td>0</td>\n",
       "      <td>2795</td>\n",
       "      <td>1</td>\n",
       "      <td>0</td>\n",
       "      <td>0</td>\n",
       "      <td>0</td>\n",
       "      <td>1</td>\n",
       "      <td>0</td>\n",
       "      <td>...</td>\n",
       "      <td>0</td>\n",
       "      <td>0</td>\n",
       "      <td>0</td>\n",
       "      <td>0</td>\n",
       "      <td>0</td>\n",
       "      <td>0</td>\n",
       "      <td>0</td>\n",
       "      <td>0</td>\n",
       "      <td>0</td>\n",
       "      <td>0</td>\n",
       "    </tr>\n",
       "  </tbody>\n",
       "</table>\n",
       "<p>5 rows × 24 columns</p>\n",
       "</div>"
      ],
      "text/plain": [
       "   bathrooms  bedrooms  interest_level  price  Elevator  CatsAllowed  \\\n",
       "0        1.0         1               1   2400         0            1   \n",
       "1        1.0         2               0   3800         1            0   \n",
       "2        1.0         2               1   3495         1            0   \n",
       "3        1.5         3               1   3000         0            0   \n",
       "4        1.0         0               0   2795         1            0   \n",
       "\n",
       "   HardwoodFloors  DogsAllowed  Doorman  Dishwasher  ...  LaundryinUnit  \\\n",
       "0               1            1        0           1  ...              0   \n",
       "1               1            0        1           1  ...              0   \n",
       "2               1            0        1           1  ...              1   \n",
       "3               0            0        0           0  ...              0   \n",
       "4               0            0        1           0  ...              0   \n",
       "\n",
       "   RoofDeck  OutdoorSpace  DiningRoom  HighSpeedInternet  Balcony  \\\n",
       "0         0             0           1                  0        0   \n",
       "1         0             0           0                  0        0   \n",
       "2         0             0           0                  0        0   \n",
       "3         0             0           0                  0        0   \n",
       "4         0             0           0                  0        0   \n",
       "\n",
       "   SwimmingPool  LaundryInBuilding  NewConstruction  Terrace  \n",
       "0             0                  0                0        0  \n",
       "1             0                  0                0        0  \n",
       "2             0                  0                0        0  \n",
       "3             0                  0                0        0  \n",
       "4             0                  0                0        0  \n",
       "\n",
       "[5 rows x 24 columns]"
      ]
     },
     "execution_count": 3,
     "metadata": {},
     "output_type": "execute_result"
    }
   ],
   "source": [
    "print(data.shape)\n",
    "data.head()"
   ]
  },
  {
   "cell_type": "code",
   "execution_count": 4,
   "id": "0e03d249",
   "metadata": {},
   "outputs": [],
   "source": [
    "X = data.drop(['price'],axis=1).to_numpy()\n",
    "y = data['price'].to_numpy()"
   ]
  },
  {
   "cell_type": "code",
   "execution_count": 5,
   "id": "f175a103",
   "metadata": {},
   "outputs": [],
   "source": [
    "class Python:\n",
    "    def __init__(self, step=0.01):\n",
    "        self.W = None\n",
    "        self.step = step\n",
    "\n",
    "    # Вычисление Mean Squared Error с учетом регуляризации\n",
    "    # reg=\"No\" - учитываем или нет регуляризацию\n",
    "    # W[1:], начинаем с 1 потому что на свободный член регуляризация не распространяется\n",
    "    def MSE(self, X, W, y, reg=\"No\", lambda_1=0, lambda_2=0):\n",
    "                \n",
    "        y_pred = X @ W\n",
    "        mse = np.mean((y - y_pred) ** 2)\n",
    "        \n",
    "        # Добавление регуляризации в функцию потерь\n",
    "        if reg == \"Ridge\":\n",
    "            mse += lambda_2 * np.sum(W[1:] ** 2)  # L2-регуляризация\n",
    "        elif reg == \"Lasso\":\n",
    "            mse += lambda_1 * np.sum(np.abs(W[1:]))  # L1-регуляризация\n",
    "        elif reg == \"ElasticNet\":\n",
    "            mse += lambda_1 * np.sum(np.abs(W[1:])) + 2 * lambda_2 * np.sum(W[1:] ** 2)\n",
    "        \n",
    "        return mse\n",
    "\n",
    "    # Обучение модели методом градиентного спуска с поддержкой регуляризации\n",
    "    def fit(self, X, y, max_epochs=1000, tol=1e-6, reg=\"No\", alpha=0, lambda_1=0, lambda_2=0):\n",
    "\n",
    "        X = np.hstack((np.ones((X.shape[0], 1)), X))  # Добавление bias (столбец единиц)\n",
    "        y = np.array(y)\n",
    "        self.W = np.zeros(X.shape[1])  # Инициализация весов из нулей (будет вектором длины n - количество признаков)\n",
    "\n",
    "        for epoch in range(max_epochs):\n",
    "            y_pred = X @ self.W \n",
    "            errors = y - y_pred\n",
    "\n",
    "            # Вычисление градиентов\n",
    "            # Делим на X.shape[0], чтобы gradients отражал средний вклад ошибки каждого объекта в выборке\n",
    "            gradients = -2 * X.T @ errors / X.shape[0]  # Основной градиент\n",
    "\n",
    "            # Добавление регуляризации\n",
    "            if reg == \"Ridge\":\n",
    "                gradients[1:] += (2 * lambda_2 * self.W[1:])/ X.shape[0]  # L2-регуляризация\n",
    "            elif reg == \"Lasso\":\n",
    "                gradients[1:] += (lambda_1 * np.sign(self.W[1:]))/ X.shape[0]  # L1-регуляризация\n",
    "            elif reg == \"ElasticNet\":\n",
    "                gradients[1:] += alpha * lambda_1 * np.sign(self.W[1:]) + 2.0 * alpha * (1 - lambda_1) * self.W[1:]  # ElasticNet\n",
    "\n",
    "            # Обновление весов\n",
    "            self.W -= self.step * gradients\n",
    "\n",
    "            # Критерий остановки\n",
    "            if self.MSE(X, self.W, y, reg, lambda_1, lambda_2) < tol:\n",
    "                print(f\"Ранний выход на эпохе {epoch}\")\n",
    "                break\n",
    "\n",
    "    # Предсказание целевой переменной\n",
    "    def predict(self, X):\n",
    "\n",
    "        X = np.hstack((np.ones((X.shape[0], 1)), X))  # Добавление bias\n",
    "        return X @ self.W"
   ]
  },
  {
   "cell_type": "markdown",
   "id": "e9855226",
   "metadata": {},
   "source": [
    "### 10 Implementation results"
   ]
  },
  {
   "cell_type": "markdown",
   "id": "94dad473",
   "metadata": {},
   "source": [
    "### 10.1 Linear Regression"
   ]
  },
  {
   "cell_type": "code",
   "execution_count": 6,
   "id": "8e22d382",
   "metadata": {},
   "outputs": [
    {
     "name": "stdout",
     "output_type": "stream",
     "text": [
      "CPU times: total: 1min 37s\n",
      "Wall time: 47.6 s\n"
     ]
    }
   ],
   "source": [
    "%%time\n",
    "\n",
    "my_model = Python(step=0.01)\n",
    "my_model.fit(X, y, max_epochs=5000)"
   ]
  },
  {
   "cell_type": "code",
   "execution_count": 7,
   "id": "78825f37",
   "metadata": {},
   "outputs": [
    {
     "name": "stdout",
     "output_type": "stream",
     "text": [
      "MSE my: 483682928.72937834\n"
     ]
    }
   ],
   "source": [
    "y_pred_my_model = my_model.predict(X)\n",
    "\n",
    "mse_my = mean_squared_error(y, y_pred_my_model)\n",
    "print(\"MSE my:\", mse_my)"
   ]
  },
  {
   "cell_type": "code",
   "execution_count": 8,
   "id": "8c48172a",
   "metadata": {},
   "outputs": [
    {
     "name": "stdout",
     "output_type": "stream",
     "text": [
      "CPU times: total: 281 ms\n",
      "Wall time: 81 ms\n"
     ]
    }
   ],
   "source": [
    "%%time\n",
    "\n",
    "model = LinearRegression()\n",
    "model.fit(X, y)\n",
    "\n",
    "y_pred = model.predict(X)"
   ]
  },
  {
   "cell_type": "code",
   "execution_count": 9,
   "id": "59dff57a",
   "metadata": {},
   "outputs": [
    {
     "name": "stdout",
     "output_type": "stream",
     "text": [
      "MSE: 483682770.34131384\n"
     ]
    }
   ],
   "source": [
    "mse = mean_squared_error(y, y_pred)\n",
    "print(\"MSE:\", mse)"
   ]
  },
  {
   "cell_type": "code",
   "execution_count": 10,
   "id": "57281861",
   "metadata": {},
   "outputs": [
    {
     "name": "stdout",
     "output_type": "stream",
     "text": [
      "0.00003%\n"
     ]
    }
   ],
   "source": [
    "print(f\"{100 * abs((mse_my - mse)) / mse:.5f}%\")"
   ]
  },
  {
   "cell_type": "markdown",
   "id": "80f9d080",
   "metadata": {},
   "source": [
    "### 10.2 Ridge"
   ]
  },
  {
   "cell_type": "code",
   "execution_count": 11,
   "id": "0ba3012a",
   "metadata": {},
   "outputs": [
    {
     "name": "stdout",
     "output_type": "stream",
     "text": [
      "CPU times: total: 1min 36s\n",
      "Wall time: 46.2 s\n"
     ]
    }
   ],
   "source": [
    "%%time\n",
    "\n",
    "my_model_ridge = Python(step=0.05)\n",
    "my_model_ridge.fit(X, y, max_epochs=5000, reg = \"Ridge\", lambda_1=0.05, lambda_2=0.05)"
   ]
  },
  {
   "cell_type": "code",
   "execution_count": 12,
   "id": "0ee735ed",
   "metadata": {},
   "outputs": [
    {
     "name": "stdout",
     "output_type": "stream",
     "text": [
      "MSE my ridge: 483682770.34210783\n"
     ]
    }
   ],
   "source": [
    "y_pred_my_model_ridge = my_model_ridge.predict(X)\n",
    "\n",
    "mse_my_ridge = mean_squared_error(y, y_pred_my_model_ridge)\n",
    "print(\"MSE my ridge:\", mse_my_ridge)"
   ]
  },
  {
   "cell_type": "code",
   "execution_count": 13,
   "id": "e294d886",
   "metadata": {},
   "outputs": [],
   "source": [
    "from sklearn.linear_model import Ridge"
   ]
  },
  {
   "cell_type": "code",
   "execution_count": 14,
   "id": "346eceee",
   "metadata": {},
   "outputs": [
    {
     "name": "stdout",
     "output_type": "stream",
     "text": [
      "CPU times: total: 15.6 ms\n",
      "Wall time: 20 ms\n"
     ]
    }
   ],
   "source": [
    "%%time\n",
    "\n",
    "model_ridge = Ridge(alpha=0.05)\n",
    "model_ridge.fit(X, y)\n",
    "\n",
    "y_pred_ridge = model_ridge.predict(X)"
   ]
  },
  {
   "cell_type": "code",
   "execution_count": 15,
   "id": "dbcadd93",
   "metadata": {},
   "outputs": [
    {
     "name": "stdout",
     "output_type": "stream",
     "text": [
      "MSE: 483682770.3413964\n"
     ]
    }
   ],
   "source": [
    "mse_ridge = mean_squared_error(y, y_pred_ridge)\n",
    "print(\"MSE:\", mse_ridge)"
   ]
  },
  {
   "cell_type": "code",
   "execution_count": 16,
   "id": "32ade79d",
   "metadata": {},
   "outputs": [
    {
     "name": "stdout",
     "output_type": "stream",
     "text": [
      "0.00000%\n"
     ]
    }
   ],
   "source": [
    "print(f\"{100 * abs((mse_my_ridge - mse_ridge)) / mse_ridge:.5f}%\")"
   ]
  },
  {
   "cell_type": "markdown",
   "id": "65c96279",
   "metadata": {},
   "source": [
    "### 10.3 Lasso"
   ]
  },
  {
   "cell_type": "code",
   "execution_count": 17,
   "id": "b67e879c",
   "metadata": {},
   "outputs": [
    {
     "name": "stdout",
     "output_type": "stream",
     "text": [
      "CPU times: total: 1min 42s\n",
      "Wall time: 48.5 s\n"
     ]
    }
   ],
   "source": [
    "%%time\n",
    "\n",
    "my_model_lasso = Python(step=0.01)\n",
    "my_model_lasso.fit(X, y, max_epochs=5000, reg = \"Lasso\", lambda_1=0.05, lambda_2=0.05)"
   ]
  },
  {
   "cell_type": "code",
   "execution_count": 18,
   "id": "65a291e7",
   "metadata": {},
   "outputs": [
    {
     "name": "stdout",
     "output_type": "stream",
     "text": [
      "MSE my lasso: 483682928.729513\n"
     ]
    }
   ],
   "source": [
    "y_pred_my_model_lasso = my_model_lasso.predict(X)\n",
    "\n",
    "mse_my_lasso = mean_squared_error(y, y_pred_my_model_lasso)\n",
    "print(\"MSE my lasso:\", mse_my_lasso)"
   ]
  },
  {
   "cell_type": "code",
   "execution_count": 19,
   "id": "1e9976a1",
   "metadata": {},
   "outputs": [],
   "source": [
    "from sklearn.linear_model import Lasso"
   ]
  },
  {
   "cell_type": "code",
   "execution_count": 20,
   "id": "bdac25cd",
   "metadata": {},
   "outputs": [
    {
     "name": "stdout",
     "output_type": "stream",
     "text": [
      "CPU times: total: 2.83 s\n",
      "Wall time: 529 ms\n"
     ]
    }
   ],
   "source": [
    "%%time\n",
    "\n",
    "model_lasso = Lasso(alpha=0.05)\n",
    "model_lasso.fit(X, y)\n",
    "\n",
    "y_pred_lasso = model_lasso.predict(X)"
   ]
  },
  {
   "cell_type": "code",
   "execution_count": 21,
   "id": "80518401",
   "metadata": {},
   "outputs": [
    {
     "name": "stdout",
     "output_type": "stream",
     "text": [
      "MSE: 483682771.38087064\n"
     ]
    }
   ],
   "source": [
    "mse_lasso = mean_squared_error(y, y_pred_lasso)\n",
    "print(\"MSE:\", mse_lasso)"
   ]
  },
  {
   "cell_type": "code",
   "execution_count": 22,
   "id": "cf856698",
   "metadata": {},
   "outputs": [
    {
     "name": "stdout",
     "output_type": "stream",
     "text": [
      "0.00003%\n"
     ]
    }
   ],
   "source": [
    "print(f\"{100 * abs((mse_my_lasso - mse_lasso)) / mse_lasso:.5f}%\")"
   ]
  },
  {
   "cell_type": "markdown",
   "id": "8c9187a0",
   "metadata": {},
   "source": [
    "### 10.4 ElasticNet"
   ]
  },
  {
   "cell_type": "code",
   "execution_count": 23,
   "id": "ba179e01",
   "metadata": {},
   "outputs": [
    {
     "name": "stdout",
     "output_type": "stream",
     "text": [
      "CPU times: total: 1min 37s\n",
      "Wall time: 45.5 s\n"
     ]
    }
   ],
   "source": [
    "%%time\n",
    "\n",
    "my_model_ElasticNet = Python(step=0.01)\n",
    "my_model_ElasticNet.fit(X, y, max_epochs=5000, reg = \"ElasticNet\", alpha=0.05, lambda_1=0.5)"
   ]
  },
  {
   "cell_type": "code",
   "execution_count": 24,
   "id": "52c58317",
   "metadata": {},
   "outputs": [
    {
     "name": "stdout",
     "output_type": "stream",
     "text": [
      "MSE my ElasticNet: 483709806.02169997\n"
     ]
    }
   ],
   "source": [
    "y_pred_my_model_ElasticNet = my_model_ElasticNet.predict(X)\n",
    "\n",
    "mse_my_ElasticNet = mean_squared_error(y, y_pred_my_model_ElasticNet)\n",
    "print(\"MSE my ElasticNet:\", mse_my_ElasticNet)"
   ]
  },
  {
   "cell_type": "code",
   "execution_count": 25,
   "id": "78da33e4",
   "metadata": {},
   "outputs": [],
   "source": [
    "from sklearn.linear_model import ElasticNet"
   ]
  },
  {
   "cell_type": "code",
   "execution_count": 26,
   "id": "817e1eae",
   "metadata": {},
   "outputs": [
    {
     "name": "stdout",
     "output_type": "stream",
     "text": [
      "CPU times: total: 609 ms\n",
      "Wall time: 138 ms\n"
     ]
    }
   ],
   "source": [
    "%%time\n",
    "\n",
    "model_ElasticNet = ElasticNet(alpha=0.05, l1_ratio=0.5)  \n",
    "model_ElasticNet.fit(X, y)\n",
    "\n",
    "y_pred_ElasticNet = model_ElasticNet.predict(X)"
   ]
  },
  {
   "cell_type": "code",
   "execution_count": 27,
   "id": "ab1b6861",
   "metadata": {},
   "outputs": [
    {
     "name": "stdout",
     "output_type": "stream",
     "text": [
      "MSE: 483709777.69967693\n"
     ]
    }
   ],
   "source": [
    "mse_ElasticNet = mean_squared_error(y, y_pred_ElasticNet)\n",
    "print(\"MSE:\", mse_ElasticNet)"
   ]
  },
  {
   "cell_type": "code",
   "execution_count": 28,
   "id": "7aed6ceb",
   "metadata": {},
   "outputs": [
    {
     "name": "stdout",
     "output_type": "stream",
     "text": [
      "0.00001%\n"
     ]
    }
   ],
   "source": [
    "print(f\"{100 * abs((mse_my_ElasticNet - mse_ElasticNet)) / mse_ElasticNet:.5f}%\")"
   ]
  }
 ],
 "metadata": {
  "kernelspec": {
   "display_name": "Python 3 (ipykernel)",
   "language": "python",
   "name": "python3"
  },
  "language_info": {
   "codemirror_mode": {
    "name": "ipython",
    "version": 3
   },
   "file_extension": ".py",
   "mimetype": "text/x-python",
   "name": "python",
   "nbconvert_exporter": "python",
   "pygments_lexer": "ipython3",
   "version": "3.11.5"
  }
 },
 "nbformat": 4,
 "nbformat_minor": 5
}
